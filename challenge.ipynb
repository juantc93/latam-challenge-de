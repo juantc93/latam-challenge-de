{
 "cells": [
  {
   "cell_type": "markdown",
   "metadata": {},
   "source": [
    "# Carga Profilers\n",
    "Se cargan los profilers y se crea una magic function que permite escribir y correr las definiciones de las funciones para facilitar las mediciones con los perfiladores cargados en memoria."
   ]
  },
  {
   "cell_type": "code",
   "execution_count": 1,
   "metadata": {},
   "outputs": [],
   "source": [
    "%load_ext memory_profiler"
   ]
  },
  {
   "cell_type": "code",
   "execution_count": 2,
   "metadata": {},
   "outputs": [],
   "source": [
    "%load_ext line_profiler"
   ]
  },
  {
   "cell_type": "code",
   "execution_count": 31,
   "metadata": {},
   "outputs": [],
   "source": [
    "from IPython.core.magic import register_cell_magic\n",
    "from typing import *\n",
    "import datetime\n",
    "\n",
    "@register_cell_magic\n",
    "def write_and_run(line, cell):\n",
    "    argz = line.split()\n",
    "    file = argz[-1]\n",
    "    mode = 'w'\n",
    "    if len(argz) == 2 and argz[0] == '-a':\n",
    "        mode = 'a'\n",
    "    with open(file, mode) as f:\n",
    "        f.write(cell)\n",
    "    get_ipython().run_cell(cell)"
   ]
  },
  {
   "cell_type": "code",
   "execution_count": 32,
   "metadata": {},
   "outputs": [],
   "source": [
    "%%write_and_run test_func.py\n",
    "def testing_func():\n",
    "    x=[]\n",
    "    for i in range (2):\n",
    "        x+=[i]"
   ]
  },
  {
   "cell_type": "code",
   "execution_count": 33,
   "metadata": {},
   "outputs": [
    {
     "name": "stdout",
     "output_type": "stream",
     "text": [
      "\n"
     ]
    },
    {
     "name": "stdout",
     "output_type": "stream",
     "text": [
      "Filename: c:\\Users\\Juantc93\\DEV\\latam_de_challenge\\test_func.py\n",
      "\n",
      "Line #    Mem usage    Increment  Occurrences   Line Contents\n",
      "=============================================================\n",
      "     1    146.6 MiB    146.6 MiB           1   def testing_func():\n",
      "     2    146.6 MiB      0.0 MiB           1       x=[]\n",
      "     3    146.6 MiB      0.0 MiB           3       for i in range (2):\n",
      "     4    146.6 MiB      0.0 MiB           2           x+=[i]"
     ]
    }
   ],
   "source": [
    " \n",
    "%lprun -f testing_func testing_func()\n",
    "from test_func import testing_func\n",
    "%mprun -f testing_func testing_func()"
   ]
  },
  {
   "cell_type": "markdown",
   "metadata": {},
   "source": [
    "## Constants"
   ]
  },
  {
   "cell_type": "code",
   "execution_count": 34,
   "metadata": {},
   "outputs": [],
   "source": [
    "FILE_PATH=\"tweets.json.zip\""
   ]
  },
  {
   "cell_type": "markdown",
   "metadata": {},
   "source": [
    "## Estrategia de solución para optimización en memoria\n",
    "\n",
    "En general la estrategía de optimización consitió en utilizar librerías de más bajo nivel para la lectura de los datos serializados, haciendo uso de tan solo los estrictamente necesarios para la optimización memoria.\n",
    "\n",
    "## Estrategia de solución para optimización en tiempo\n",
    "Para la optimización en tiempo de ejecución se utilizaron básicamente métodos estándar de la librería pandas.\n",
    "\n",
    "## Twiteros del día"
   ]
  },
  {
   "cell_type": "code",
   "execution_count": 42,
   "metadata": {},
   "outputs": [],
   "source": [
    "%%write_and_run q1_time.py\n",
    "def q1_time(file_path):\n",
    "    import pandas as pd\n",
    "    df = pd.read_json(file_path, lines=True)\\\n",
    "        .assign(date=lambda x: x.date.dt.date,\n",
    "                username=lambda x: x.user.apply(lambda y: y.get(\"username\")))\n",
    "\n",
    "    df_top_ten_date=df[\"date\"]\\\n",
    "        .value_counts()\\\n",
    "        .nlargest(10)\\\n",
    "        .rename(\"twits\")\\\n",
    "        .rename_axis(\"date\")\n",
    "\n",
    "\n",
    "    return df.loc[:,[\"date\",\"username\"]]\\\n",
    "        .set_index(\"date\")\\\n",
    "        .join(df_top_ten_date,how=\"inner\")\\\n",
    "        .set_index(\"username\",append=True)\\\n",
    "        .groupby([\"date\",\"username\",\"twits\"])\\\n",
    "        .agg(twits_user=pd.NamedAgg(column=\"twits\",aggfunc=\"count\"))\\\n",
    "        .assign(\n",
    "            rank=lambda x: x.groupby([\"date\",\"twits\"])[\"twits_user\"].rank(axis='index',method=\"first\",ascending=False))\\\n",
    "        .query(\"rank==1\")\\\n",
    "        .sort_index(level=\"twits\",ascending=False)\\\n",
    "        .reset_index()\\\n",
    "        .loc[:,[\"date\",\"username\"]]\\\n",
    "        .to_records(index=False).tolist()\n",
    "\n"
   ]
  },
  {
   "cell_type": "code",
   "execution_count": 43,
   "metadata": {},
   "outputs": [
    {
     "data": {
      "text/plain": [
       "[(datetime.date(2021, 2, 12), 'RanbirS00614606'),\n",
       " (datetime.date(2021, 2, 13), 'MaanDee08215437'),\n",
       " (datetime.date(2021, 2, 17), 'RaaJVinderkaur'),\n",
       " (datetime.date(2021, 2, 16), 'jot__b'),\n",
       " (datetime.date(2021, 2, 14), 'rebelpacifist'),\n",
       " (datetime.date(2021, 2, 18), 'neetuanjle_nitu'),\n",
       " (datetime.date(2021, 2, 15), 'jot__b'),\n",
       " (datetime.date(2021, 2, 20), 'MangalJ23056160'),\n",
       " (datetime.date(2021, 2, 23), 'Surrypuria'),\n",
       " (datetime.date(2021, 2, 19), 'Preetm91')]"
      ]
     },
     "execution_count": 43,
     "metadata": {},
     "output_type": "execute_result"
    }
   ],
   "source": [
    "q1_time(FILE_PATH)"
   ]
  },
  {
   "cell_type": "code",
   "execution_count": 44,
   "metadata": {},
   "outputs": [
    {
     "name": "stdout",
     "output_type": "stream",
     "text": [
      "Timer unit: 1e-07 s\n",
      "\n",
      "Total time: 23.4773 s\n",
      "File: C:\\Users\\Juantc93\\AppData\\Local\\Temp\\ipykernel_10444\\2266987483.py\n",
      "Function: q1_time at line 1\n",
      "\n",
      "Line #      Hits         Time  Per Hit   % Time  Line Contents\n",
      "==============================================================\n",
      "     1                                           def q1_time(file_path):\n",
      "     2         1         46.0     46.0      0.0      import pandas as pd\n",
      "     3         2  226155768.0    1e+08     96.3      df = pd.read_json(file_path, lines=True)\\\n",
      "     4         1         39.0     39.0      0.0          .assign(date=lambda x: x.date.dt.date,\n",
      "     5         1         16.0     16.0      0.0                  username=lambda x: x.user.apply(lambda y: y.get(\"username\")))\n",
      "     6                                           \n",
      "     7         4     294062.0  73515.5      0.1      df_top_ten_date=df[\"date\"]\\\n",
      "     8                                                   .value_counts()\\\n",
      "     9         1         11.0     11.0      0.0          .nlargest(10)\\\n",
      "    10         1         13.0     13.0      0.0          .rename(\"twits\")\\\n",
      "    11         1          8.0      8.0      0.0          .rename_axis(\"date\")\n",
      "    12                                           \n",
      "    13                                           \n",
      "    14        11    8323102.0 756645.6      3.5      return df.loc[:,[\"date\",\"username\"]]\\\n",
      "    15         1         10.0     10.0      0.0          .set_index(\"date\")\\\n",
      "    16         1         19.0     19.0      0.0          .join(df_top_ten_date,how=\"inner\")\\\n",
      "    17         1         14.0     14.0      0.0          .set_index(\"username\",append=True)\\\n",
      "    18         1         49.0     49.0      0.0          .groupby([\"date\",\"username\",\"twits\"])\\\n",
      "    19         1        122.0    122.0      0.0          .agg(twits_user=pd.NamedAgg(column=\"twits\",aggfunc=\"count\"))\\\n",
      "    20                                                   .assign(\n",
      "    21         1         31.0     31.0      0.0              rank=lambda x: x.groupby([\"date\",\"twits\"])[\"twits_user\"].rank(axis='index',method=\"first\",ascending=False))\\\n",
      "    22         1         16.0     16.0      0.0          .query(\"rank==1\")\\\n",
      "    23         1         12.0     12.0      0.0          .sort_index(level=\"twits\",ascending=False)\\\n",
      "    24                                                   .reset_index()\\\n",
      "    25         1         48.0     48.0      0.0          .loc[:,[\"date\",\"username\"]]\\\n",
      "    26         1         12.0     12.0      0.0          .to_records(index=False).tolist()"
     ]
    }
   ],
   "source": [
    "%lprun -f q1_time q1_time(FILE_PATH)"
   ]
  },
  {
   "cell_type": "code",
   "execution_count": 45,
   "metadata": {},
   "outputs": [
    {
     "name": "stdout",
     "output_type": "stream",
     "text": [
      "\\n\\n --- MEMORY_PROFILING ---\\nn\n",
      "\n"
     ]
    },
    {
     "name": "stdout",
     "output_type": "stream",
     "text": [
      "Filename: c:\\Users\\Juantc93\\DEV\\latam_de_challenge\\q1_time.py\n",
      "\n",
      "Line #    Mem usage    Increment  Occurrences   Line Contents\n",
      "=============================================================\n",
      "     1    172.0 MiB    172.0 MiB           1   def q1_time(file_path):\n",
      "     2    172.0 MiB      0.0 MiB           1       import pandas as pd\n",
      "     3   1967.6 MiB   1773.2 MiB           2       df = pd.read_json(file_path, lines=True)\\\n",
      "     4   1988.2 MiB     20.6 MiB           3           .assign(date=lambda x: x.date.dt.date,\n",
      "     5   1988.2 MiB     -1.8 MiB      234817                   username=lambda x: x.user.apply(lambda y: y.get(\"username\")))\n",
      "     6                                         \n",
      "     7   1965.8 MiB     -1.8 MiB           4       df_top_ten_date=df[\"date\"]\\\n",
      "     8                                                 .value_counts()\\\n",
      "     9   1965.8 MiB      0.0 MiB           1           .nlargest(10)\\\n",
      "    10   1965.8 MiB      0.0 MiB           1           .rename(\"twits\")\\\n",
      "    11   1965.8 MiB      0.0 MiB           1           .rename_axis(\"date\")\n",
      "    12                                         \n",
      "    13                                         \n",
      "    14   1968.5 MiB      2.2 MiB          11       return df.loc[:,[\"date\",\"username\"]]\\\n",
      "    15   1966.1 MiB      0.0 MiB           1           .set_index(\"date\")\\\n",
      "    16   1966.1 MiB     -0.0 MiB           1           .join(df_top_ten_date,how=\"inner\")\\\n",
      "    17   1967.9 MiB      0.0 MiB           1           .set_index(\"username\",append=True)\\\n",
      "    18   1967.9 MiB      0.0 MiB           1           .groupby([\"date\",\"username\",\"twits\"])\\\n",
      "    19   1968.0 MiB      0.0 MiB           1           .agg(twits_user=pd.NamedAgg(column=\"twits\",aggfunc=\"count\"))\\\n",
      "    20                                                 .assign(\n",
      "    21   1968.5 MiB      0.5 MiB           3               rank=lambda x: x.groupby([\"date\",\"twits\"])[\"twits_user\"].rank(axis='index',method=\"first\",ascending=False))\\\n",
      "    22   1968.5 MiB      0.0 MiB           1           .query(\"rank==1\")\\\n",
      "    23   1968.5 MiB      0.0 MiB           1           .sort_index(level=\"twits\",ascending=False)\\\n",
      "    24                                                 .reset_index()\\\n",
      "    25   1968.5 MiB      0.0 MiB           1           .loc[:,[\"date\",\"username\"]]\\\n",
      "    26   1968.5 MiB      0.0 MiB           1           .to_records(index=False).tolist()"
     ]
    }
   ],
   "source": [
    "\n",
    "from q1_time import q1_time\n",
    "\n",
    "print(r\"\\n\\n --- MEMORY_PROFILING ---\\nn\")\n",
    "%mprun -f q1_time q1_time(FILE_PATH)"
   ]
  },
  {
   "cell_type": "code",
   "execution_count": 92,
   "metadata": {},
   "outputs": [],
   "source": [
    "%%write_and_run q1_memory.py\n",
    "def q1_memory(file_path):\n",
    "    import ujson\n",
    "    import zipfile\n",
    "    from datetime import datetime as dt\n",
    "    from collections import defaultdict\n",
    "\n",
    "    date_count=defaultdict(int)\n",
    "    user_date_count=defaultdict(lambda: defaultdict(int))\n",
    "    with zipfile.ZipFile(file_path, 'r') as f:\n",
    "        with f.open(f.filelist[0]) as g:\n",
    "            for line in g:\n",
    "                tweet = ujson.loads(line)\n",
    "                date_count[tweet['date'].split(\"T\")[0]] += 1\n",
    "                user_date_count[tweet['date'].split(\"T\")[0]][tweet['user']['username']] += 1\n",
    "\n",
    "\n",
    "    \n",
    "    return [ \n",
    "        (dt.strptime(key,\"%Y-%m-%d\").date(),max(user_date_count[key],key=user_date_count[key].get))\n",
    "        for key in sorted(date_count, key=date_count.get,reverse=True)[0:10]\n",
    "        ]\n",
    "    "
   ]
  },
  {
   "cell_type": "code",
   "execution_count": 91,
   "metadata": {},
   "outputs": [
    {
     "name": "stdout",
     "output_type": "stream",
     "text": [
      "Timer unit: 1e-07 s\n",
      "\n",
      "Total time: 34.2094 s\n",
      "File: C:\\Users\\Juantc93\\AppData\\Local\\Temp\\ipykernel_10444\\707789264.py\n",
      "Function: q1_memory at line 1\n",
      "\n",
      "Line #      Hits         Time  Per Hit   % Time  Line Contents\n",
      "==============================================================\n",
      "     1                                           def q1_memory(file_path):\n",
      "     2         1         42.0     42.0      0.0      import ujson\n",
      "     3         1         25.0     25.0      0.0      import zipfile\n",
      "     4         1         68.0     68.0      0.0      from datetime import datetime as dt\n",
      "     5         1        147.0    147.0      0.0      from collections import defaultdict\n",
      "     6                                           \n",
      "     7         1         39.0     39.0      0.0      date_count=defaultdict(int)\n",
      "     8         1         21.0     21.0      0.0      user_date_count=defaultdict(lambda: defaultdict(int))\n",
      "     9         1       7784.0   7784.0      0.0      with zipfile.ZipFile(file_path, 'r') as f:\n",
      "    10         1       3017.0   3017.0      0.0          with f.open(f.filelist[0]) as g:\n",
      "    11    117408  241759850.0   2059.1     70.7              for line in g:\n",
      "    12    117407   89863944.0    765.4     26.3                  tweet = ujson.loads(line)\n",
      "    13    117407    5054091.0     43.0      1.5                  date_count[tweet['date'].split(\"T\")[0]] += 1\n",
      "    14    117407    5322068.0     45.3      1.6                  user_date_count[tweet['date'].split(\"T\")[0]][tweet['user']['username']] += 1\n",
      "    15                                           \n",
      "    16                                           \n",
      "    17                                               \n",
      "    18         2      82990.0  41495.0      0.0      return [ \n",
      "    19                                                   (dt.strptime(key,\"%Y-%m-%d\").date(),max(user_date_count[key],key=user_date_count[key].get))\n",
      "    20         1        147.0    147.0      0.0          for key in sorted(date_count, key=date_count.get,reverse=True)[0:10]\n",
      "    21                                                   ]"
     ]
    }
   ],
   "source": [
    "%lprun -f q1_memory q1_memory(FILE_PATH)"
   ]
  },
  {
   "cell_type": "code",
   "execution_count": 93,
   "metadata": {},
   "outputs": [
    {
     "name": "stdout",
     "output_type": "stream",
     "text": [
      "\\n\\n --- MEMORY_PROFILING ---\\nn\n",
      "\n"
     ]
    },
    {
     "name": "stdout",
     "output_type": "stream",
     "text": [
      "Filename: c:\\Users\\Juantc93\\DEV\\latam_de_challenge\\q1_memory.py\n",
      "\n",
      "Line #    Mem usage    Increment  Occurrences   Line Contents\n",
      "=============================================================\n",
      "     1    511.4 MiB    511.4 MiB           1   def q1_memory(file_path):\n",
      "     2    511.4 MiB      0.0 MiB           1       import ujson\n",
      "     3    511.4 MiB      0.0 MiB           1       import zipfile\n",
      "     4    511.4 MiB      0.0 MiB           1       from datetime import datetime as dt\n",
      "     5    511.4 MiB      0.0 MiB           1       from collections import defaultdict\n",
      "     6                                         \n",
      "     7    511.4 MiB      0.0 MiB           1       date_count=defaultdict(int)\n",
      "     8    511.4 MiB      0.0 MiB          27       user_date_count=defaultdict(lambda: defaultdict(int))\n",
      "     9    511.4 MiB      0.0 MiB           1       with zipfile.ZipFile(file_path, 'r') as f:\n",
      "    10    511.4 MiB      0.0 MiB           1           with f.open(f.filelist[0]) as g:\n",
      "    11    511.4 MiB      0.0 MiB      117408               for line in g:\n",
      "    12    511.4 MiB      0.0 MiB      117407                   tweet = ujson.loads(line)\n",
      "    13    511.4 MiB      0.0 MiB      117407                   date_count[tweet['date'].split(\"T\")[0]] += 1\n",
      "    14    511.4 MiB      0.0 MiB      117407                   user_date_count[tweet['date'].split(\"T\")[0]][tweet['user']['username']] += 1\n",
      "    15                                         \n",
      "    16                                         \n",
      "    17                                             \n",
      "    18    511.4 MiB      0.0 MiB          14       return [ \n",
      "    19    511.4 MiB      0.0 MiB          10           (dt.strptime(key,\"%Y-%m-%d\").date(),max(user_date_count[key],key=user_date_count[key].get))\n",
      "    20    511.4 MiB      0.0 MiB           1           for key in sorted(date_count, key=date_count.get,reverse=True)[0:10]\n",
      "    21                                                 ]"
     ]
    }
   ],
   "source": [
    "\n",
    "from q1_memory import q1_memory\n",
    "\n",
    "print(r\"\\n\\n --- MEMORY_PROFILING ---\\nn\")\n",
    "%mprun -f q1_memory q1_memory(FILE_PATH)"
   ]
  },
  {
   "cell_type": "markdown",
   "metadata": {},
   "source": [
    "## Top 10 Emojis"
   ]
  },
  {
   "cell_type": "code",
   "execution_count": 99,
   "metadata": {},
   "outputs": [],
   "source": [
    "%%write_and_run q2_time.py\n",
    "\n",
    "def q2_time(file_path):\n",
    "    \n",
    "    import pandas as pd\n",
    "    import emoji\n",
    "    from collections import Counter\n",
    "    import re\n",
    "    \n",
    "    df = pd.read_json(file_path, lines=True)\\\n",
    "\n",
    "    return Counter(\n",
    "        (\n",
    "            (\n",
    "                i.chars for i in emoji.analyze((\"|\").join(list(df.content.values)))\n",
    "                )\n",
    "            )\n",
    "            )\\\n",
    "            .most_common(10)\n",
    "\n"
   ]
  },
  {
   "cell_type": "code",
   "execution_count": 100,
   "metadata": {},
   "outputs": [
    {
     "data": {
      "text/plain": [
       "[('🙏', 5049),\n",
       " ('😂', 3072),\n",
       " ('🚜', 2972),\n",
       " ('🌾', 2182),\n",
       " ('🇮🇳', 2086),\n",
       " ('🤣', 1668),\n",
       " ('✊', 1651),\n",
       " ('❤️', 1382),\n",
       " ('🙏🏻', 1317),\n",
       " ('💚', 1040)]"
      ]
     },
     "execution_count": 100,
     "metadata": {},
     "output_type": "execute_result"
    }
   ],
   "source": [
    "q2_time(FILE_PATH)"
   ]
  },
  {
   "cell_type": "code",
   "execution_count": 101,
   "metadata": {},
   "outputs": [
    {
     "name": "stdout",
     "output_type": "stream",
     "text": [
      "Timer unit: 1e-07 s\n",
      "\n",
      "Total time: 432.403 s\n",
      "File: C:\\Users\\Juantc93\\AppData\\Local\\Temp\\ipykernel_10444\\3599924225.py\n",
      "Function: q2_time at line 1\n",
      "\n",
      "Line #      Hits         Time  Per Hit   % Time  Line Contents\n",
      "==============================================================\n",
      "     1                                           def q2_time(file_path):\n",
      "     2                                               \n",
      "     3         1         64.0     64.0      0.0      import pandas as pd\n",
      "     4         1         38.0     38.0      0.0      import emoji\n",
      "     5         1        234.0    234.0      0.0      from collections import Counter\n",
      "     6         1         40.0     40.0      0.0      import re\n",
      "     7                                               \n",
      "     8         1  226598523.0    2e+08      5.2      df = pd.read_json(file_path, lines=True)\\\n",
      "     9                                           \n",
      "    10         3 4096713905.0    1e+09     94.7      return Counter(\n",
      "    11                                                   (\n",
      "    12         2         82.0     41.0      0.0              (\n",
      "    13         1     714940.0 714940.0      0.0                  i.chars for i in emoji.analyze((\"|\").join(list(df.content.values)))\n",
      "    14                                                           )\n",
      "    15                                                       )\n",
      "    16                                                       )\\\n",
      "    17         1         14.0     14.0      0.0              .most_common(10)"
     ]
    }
   ],
   "source": [
    "%lprun -f q2_time q2_time(FILE_PATH)"
   ]
  },
  {
   "cell_type": "code",
   "execution_count": 98,
   "metadata": {},
   "outputs": [
    {
     "name": "stdout",
     "output_type": "stream",
     "text": [
      "\\n\\n --- MEMORY_PROFILING ---\\nn\n",
      "*** KeyboardInterrupt exception caught in code being profiled.\n"
     ]
    },
    {
     "name": "stdout",
     "output_type": "stream",
     "text": [
      "Filename: c:\\Users\\Juantc93\\DEV\\latam_de_challenge\\q2_time.py\n",
      "\n",
      "Line #    Mem usage    Increment  Occurrences   Line Contents\n",
      "=============================================================\n",
      "     2    607.6 MiB    607.6 MiB           1   def q2_time(file_path):\n",
      "     3                                             \n",
      "     4    607.6 MiB      0.0 MiB           1       import pandas as pd\n",
      "     5    607.6 MiB      0.0 MiB           1       import emoji\n",
      "     6    607.6 MiB      0.0 MiB           1       from collections import Counter\n",
      "     7    607.6 MiB      0.0 MiB           1       import re\n",
      "     8                                             \n",
      "     9   1982.9 MiB   1375.3 MiB           1       df = pd.read_json(file_path, lines=True)\\\n",
      "    10                                         \n",
      "    11   1982.9 MiB      0.0 MiB           1       return Counter(\n",
      "    12                                                 (\n",
      "    13   2048.3 MiB  -4039.8 MiB       41015               (\n",
      "    14   2048.3 MiB     65.4 MiB           1                   i.chars for i in emoji.analyze((\"|\").join(list(df.content.values)))\n",
      "    15                                                         )\n",
      "    16                                                     )\n",
      "    17                                                     )\\\n",
      "    18                                                     .most_common(10)"
     ]
    }
   ],
   "source": [
    "from q2_time import q2_time\n",
    "\n",
    "print(r\"\\n\\n --- MEMORY_PROFILING ---\\nn\")\n",
    "%mprun -f q2_time q2_time(FILE_PATH)"
   ]
  },
  {
   "cell_type": "code",
   "execution_count": 102,
   "metadata": {},
   "outputs": [],
   "source": [
    "%%write_and_run q2_memory.py\n",
    "\n",
    "def q2_memory(file_path):\n",
    "\n",
    "    import ujson\n",
    "    import emoji\n",
    "    from collections import Counter\n",
    "    import re\n",
    "    import zipfile\n",
    "\n",
    "\n",
    "    with zipfile.ZipFile(file_path, 'r') as f:\n",
    "        with f.open(f.filelist[0]) as g:\n",
    "            content_list=[ujson.loads(line).get(\"content\") for line in g]\n",
    "\n",
    "    return Counter(\n",
    "        (\n",
    "            (\n",
    "                i.chars for i in emoji.analyze((\"|\").join(content_list))\n",
    "                )\n",
    "            )\n",
    "            )\\\n",
    "            .most_common(10)\n"
   ]
  },
  {
   "cell_type": "code",
   "execution_count": 103,
   "metadata": {},
   "outputs": [
    {
     "data": {
      "text/plain": [
       "[('🙏', 5049),\n",
       " ('😂', 3072),\n",
       " ('🚜', 2972),\n",
       " ('🌾', 2182),\n",
       " ('🇮🇳', 2086),\n",
       " ('🤣', 1668),\n",
       " ('✊', 1651),\n",
       " ('❤️', 1382),\n",
       " ('🙏🏻', 1317),\n",
       " ('💚', 1040)]"
      ]
     },
     "execution_count": 103,
     "metadata": {},
     "output_type": "execute_result"
    }
   ],
   "source": [
    "q2_memory(FILE_PATH)"
   ]
  },
  {
   "cell_type": "code",
   "execution_count": 104,
   "metadata": {},
   "outputs": [
    {
     "name": "stdout",
     "output_type": "stream",
     "text": [
      "Timer unit: 1e-07 s\n",
      "\n",
      "Total time: 448.338 s\n",
      "File: C:\\Users\\Juantc93\\AppData\\Local\\Temp\\ipykernel_10444\\3131767586.py\n",
      "Function: q2_memory at line 1\n",
      "\n",
      "Line #      Hits         Time  Per Hit   % Time  Line Contents\n",
      "==============================================================\n",
      "     1                                           def q2_memory(file_path):\n",
      "     2                                           \n",
      "     3         1         48.0     48.0      0.0      import ujson\n",
      "     4         1         34.0     34.0      0.0      import emoji\n",
      "     5         1        208.0    208.0      0.0      from collections import Counter\n",
      "     6         1         32.0     32.0      0.0      import re\n",
      "     7         1         33.0     33.0      0.0      import zipfile\n",
      "     8                                           \n",
      "     9                                           \n",
      "    10         1       7874.0   7874.0      0.0      with zipfile.ZipFile(file_path, 'r') as f:\n",
      "    11         1       3704.0   3704.0      0.0          with f.open(f.filelist[0]) as g:\n",
      "    12         1  325305421.0    3e+08      7.3              content_list=[ujson.loads(line).get(\"content\") for line in g]\n",
      "    13                                           \n",
      "    14         3 4157654763.0    1e+09     92.7      return Counter(\n",
      "    15                                                   (\n",
      "    16         2         54.0     27.0      0.0              (\n",
      "    17         1     410484.0 410484.0      0.0                  i.chars for i in emoji.analyze((\"|\").join(content_list))\n",
      "    18                                                           )\n",
      "    19                                                       )\n",
      "    20                                                       )\\\n",
      "    21         1         21.0     21.0      0.0              .most_common(10)"
     ]
    }
   ],
   "source": [
    "%lprun -f q2_memory q2_memory(FILE_PATH)"
   ]
  },
  {
   "cell_type": "code",
   "execution_count": 105,
   "metadata": {},
   "outputs": [
    {
     "name": "stdout",
     "output_type": "stream",
     "text": [
      "\\n\\n --- MEMORY_PROFILING ---\\nn\n",
      "\n"
     ]
    },
    {
     "name": "stdout",
     "output_type": "stream",
     "text": [
      "Filename: c:\\Users\\Juantc93\\DEV\\latam_de_challenge\\q2_memory.py\n",
      "\n",
      "Line #    Mem usage    Increment  Occurrences   Line Contents\n",
      "=============================================================\n",
      "     2    226.3 MiB    226.3 MiB           1   def q2_memory(file_path):\n",
      "     3                                         \n",
      "     4    226.3 MiB      0.0 MiB           1       import ujson\n",
      "     5    226.3 MiB      0.0 MiB           1       import emoji\n",
      "     6    226.3 MiB      0.0 MiB           1       from collections import Counter\n",
      "     7    226.3 MiB      0.0 MiB           1       import re\n",
      "     8    226.3 MiB      0.0 MiB           1       import zipfile\n",
      "     9                                         \n",
      "    10                                         \n",
      "    11    226.3 MiB      0.0 MiB           1       with zipfile.ZipFile(file_path, 'r') as f:\n",
      "    12    226.3 MiB      0.0 MiB           1           with f.open(f.filelist[0]) as g:\n",
      "    13    238.1 MiB     11.8 MiB      117410               content_list=[ujson.loads(line).get(\"content\") for line in g]\n",
      "    14                                         \n",
      "    15    238.4 MiB    -65.4 MiB           3       return Counter(\n",
      "    16                                                 (\n",
      "    17    303.8 MiB    -65.1 MiB       85846               (\n",
      "    18    303.5 MiB     65.4 MiB           1                   i.chars for i in emoji.analyze((\"|\").join(content_list))\n",
      "    19                                                         )\n",
      "    20                                                     )\n",
      "    21                                                     )\\\n",
      "    22    238.4 MiB      0.0 MiB           1               .most_common(10)"
     ]
    }
   ],
   "source": [
    "from q2_memory import q2_memory\n",
    "\n",
    "print(r\"\\n\\n --- MEMORY_PROFILING ---\\nn\")\n",
    "%mprun -f q2_memory q2_memory(FILE_PATH)"
   ]
  },
  {
   "cell_type": "markdown",
   "metadata": {},
   "source": [
    "## Top 10 Influencers"
   ]
  },
  {
   "cell_type": "code",
   "execution_count": 106,
   "metadata": {},
   "outputs": [],
   "source": [
    "%%write_and_run q3_time.py\n",
    "def q3_time(file_path):\n",
    "\n",
    "    import pandas as pd\n",
    "    from collections import Counter\n",
    "    import re\n",
    "\n",
    "    df = pd.read_json(file_path, lines=True)\n",
    "    mention_pattern=re.compile('@(\\w+)')\n",
    "    return Counter([i.upper() for i in re.findall(mention_pattern,(\"|\").join(list(df.content.values)))]).most_common(10)"
   ]
  },
  {
   "cell_type": "code",
   "execution_count": 107,
   "metadata": {},
   "outputs": [
    {
     "data": {
      "text/plain": [
       "[('NARENDRAMODI', 2266),\n",
       " ('KISANEKTAMORCHA', 1840),\n",
       " ('RAKESHTIKAITBKU', 1642),\n",
       " ('PMOINDIA', 1427),\n",
       " ('RAHULGANDHI', 1146),\n",
       " ('GRETATHUNBERG', 1048),\n",
       " ('RAVISINGHKA', 1019),\n",
       " ('RIHANNA', 986),\n",
       " ('UNHUMANRIGHTS', 962),\n",
       " ('MEENAHARRIS', 926)]"
      ]
     },
     "execution_count": 107,
     "metadata": {},
     "output_type": "execute_result"
    }
   ],
   "source": [
    "q3_time(FILE_PATH)"
   ]
  },
  {
   "cell_type": "code",
   "execution_count": 108,
   "metadata": {},
   "outputs": [
    {
     "name": "stdout",
     "output_type": "stream",
     "text": [
      "Timer unit: 1e-07 s\n",
      "\n",
      "Total time: 23.6493 s\n",
      "File: C:\\Users\\Juantc93\\AppData\\Local\\Temp\\ipykernel_10444\\3287970270.py\n",
      "Function: q3_time at line 1\n",
      "\n",
      "Line #      Hits         Time  Per Hit   % Time  Line Contents\n",
      "==============================================================\n",
      "     1                                           def q3_time(file_path):\n",
      "     2                                           \n",
      "     3         1         38.0     38.0      0.0      import pandas as pd\n",
      "     4         1        143.0    143.0      0.0      from collections import Counter\n",
      "     5         1         21.0     21.0      0.0      import re\n",
      "     6                                           \n",
      "     7         1  231719860.0    2e+08     98.0      df = pd.read_json(file_path, lines=True)\n",
      "     8         1        292.0    292.0      0.0      mention_pattern=re.compile('@(\\w+)')\n",
      "     9         1    4772595.0    5e+06      2.0      return Counter([i.upper() for i in re.findall(mention_pattern,(\"|\").join(list(df.content.values)))]).most_common(10)"
     ]
    }
   ],
   "source": [
    "%lprun -f q3_time q3_time(FILE_PATH)"
   ]
  },
  {
   "cell_type": "code",
   "execution_count": 109,
   "metadata": {},
   "outputs": [
    {
     "name": "stdout",
     "output_type": "stream",
     "text": [
      "\\n\\n --- MEMORY_PROFILING ---\\nn\n",
      "\n"
     ]
    },
    {
     "name": "stdout",
     "output_type": "stream",
     "text": [
      "Filename: c:\\Users\\Juantc93\\DEV\\latam_de_challenge\\q3_time.py\n",
      "\n",
      "Line #    Mem usage    Increment  Occurrences   Line Contents\n",
      "=============================================================\n",
      "     1                                         def q3_time(file_path):\n",
      "     2                                         \n",
      "     3    715.0 MiB    715.0 MiB           1       import pandas as pd\n",
      "     4    715.0 MiB      0.0 MiB           1       from collections import Counter\n",
      "     5                                             import re\n",
      "     6                                         \n",
      "     7                                             df = pd.read_json(file_path, lines=True)\n",
      "     8                                             mention_pattern=re.compile('@(\\w+)')\n",
      "     9                                             return Counter([i.upper() for i in re.findall(mention_pattern,(\"|\").join(list(df.content.values)))]).most_common(10)"
     ]
    }
   ],
   "source": [
    "from q3_time import q3_time\n",
    "\n",
    "print(r\"\\n\\n --- MEMORY_PROFILING ---\\nn\")\n",
    "%mprun -f q3_time q3_time(FILE_PATH)"
   ]
  },
  {
   "cell_type": "code",
   "execution_count": 110,
   "metadata": {},
   "outputs": [],
   "source": [
    "%%write_and_run q3_memory.py\n",
    "\n",
    "def q3_memory(file_path):\n",
    "\n",
    "    import ujson\n",
    "    from collections import Counter\n",
    "    import re\n",
    "    import zipfile\n",
    "\n",
    "\n",
    "    with zipfile.ZipFile(file_path, 'r') as f:\n",
    "        with f.open(f.filelist[0]) as g:\n",
    "            content_list=[ujson.loads(line).get(\"content\") for line in g]\n",
    "        \n",
    "\n",
    "\n",
    "    mention_pattern=re.compile('@(\\w+)')\n",
    "    return Counter([i.upper() for i in re.findall(mention_pattern,(' ').join(content_list))]).most_common(10)"
   ]
  },
  {
   "cell_type": "code",
   "execution_count": 111,
   "metadata": {},
   "outputs": [
    {
     "data": {
      "text/plain": [
       "[('NARENDRAMODI', 2266),\n",
       " ('KISANEKTAMORCHA', 1840),\n",
       " ('RAKESHTIKAITBKU', 1642),\n",
       " ('PMOINDIA', 1427),\n",
       " ('RAHULGANDHI', 1146),\n",
       " ('GRETATHUNBERG', 1048),\n",
       " ('RAVISINGHKA', 1019),\n",
       " ('RIHANNA', 986),\n",
       " ('UNHUMANRIGHTS', 962),\n",
       " ('MEENAHARRIS', 926)]"
      ]
     },
     "execution_count": 111,
     "metadata": {},
     "output_type": "execute_result"
    }
   ],
   "source": [
    "q3_memory(FILE_PATH)"
   ]
  },
  {
   "cell_type": "code",
   "execution_count": 112,
   "metadata": {},
   "outputs": [
    {
     "name": "stdout",
     "output_type": "stream",
     "text": [
      "Timer unit: 1e-07 s\n",
      "\n",
      "Total time: 34.6026 s\n",
      "File: C:\\Users\\Juantc93\\AppData\\Local\\Temp\\ipykernel_10444\\860603813.py\n",
      "Function: q3_memory at line 1\n",
      "\n",
      "Line #      Hits         Time  Per Hit   % Time  Line Contents\n",
      "==============================================================\n",
      "     1                                           def q3_memory(file_path):\n",
      "     2                                           \n",
      "     3         1         54.0     54.0      0.0      import ujson\n",
      "     4         1        186.0    186.0      0.0      from collections import Counter\n",
      "     5         1         29.0     29.0      0.0      import re\n",
      "     6         1         30.0     30.0      0.0      import zipfile\n",
      "     7                                           \n",
      "     8                                           \n",
      "     9         1       8317.0   8317.0      0.0      with zipfile.ZipFile(file_path, 'r') as f:\n",
      "    10         1       3040.0   3040.0      0.0          with f.open(f.filelist[0]) as g:\n",
      "    11         1  342232836.0    3e+08     98.9              content_list=[ujson.loads(line).get(\"content\") for line in g]\n",
      "    12                                                   \n",
      "    13                                           \n",
      "    14                                           \n",
      "    15         1        281.0    281.0      0.0      mention_pattern=re.compile('@(\\w+)')\n",
      "    16         1    3781432.0    4e+06      1.1      return Counter([i.upper() for i in re.findall(mention_pattern,(' ').join(content_list))]).most_common(10)"
     ]
    }
   ],
   "source": [
    "%lprun -f q3_memory q3_memory(FILE_PATH)"
   ]
  },
  {
   "cell_type": "code",
   "execution_count": 89,
   "metadata": {},
   "outputs": [
    {
     "name": "stdout",
     "output_type": "stream",
     "text": [
      "\\n\\n --- MEMORY_PROFILING ---\\nn\n",
      "\n"
     ]
    },
    {
     "name": "stdout",
     "output_type": "stream",
     "text": [
      "Filename: c:\\Users\\Juantc93\\DEV\\latam_test\\q3_mem_opt.py\n",
      "\n",
      "Line #    Mem usage    Increment  Occurrences   Line Contents\n",
      "=============================================================\n",
      "     2    232.1 MiB    232.1 MiB           1   def q3_mem_opt(file_path):\n",
      "     3                                         \n",
      "     4    232.1 MiB      0.0 MiB           1       import ujson\n",
      "     5    232.1 MiB      0.0 MiB           1       from collections import Counter\n",
      "     6    232.1 MiB      0.0 MiB           1       import re\n",
      "     7    232.1 MiB      0.0 MiB           1       import zipfile\n",
      "     8                                         \n",
      "     9                                         \n",
      "    10    232.1 MiB      0.0 MiB           1       with zipfile.ZipFile(file_path, 'r') as f:\n",
      "    11    232.1 MiB      0.0 MiB           1           with f.open(f.filelist[0]) as g:\n",
      "    12    232.1 MiB      0.0 MiB      117410               content_list=[ujson.loads(line).get(\"content\") for line in g]\n",
      "    13                                                 \n",
      "    14                                         \n",
      "    15                                         \n",
      "    16    232.1 MiB      0.0 MiB           1       mention_pattern=re.compile('@(\\w+)')\n",
      "    17    232.1 MiB      0.0 MiB      104069       return Counter([i.upper() for i in re.findall(mention_pattern,(' ').join(content_list))]).most_common(10)"
     ]
    }
   ],
   "source": [
    "from q3_memory import q3_memory\n",
    "\n",
    "print(r\"\\n\\n --- MEMORY_PROFILING ---\\nn\")\n",
    "%mprun -f q3_memory q3_memory(FILE_PATH)"
   ]
  }
 ],
 "metadata": {
  "kernelspec": {
   "display_name": "env",
   "language": "python",
   "name": "python3"
  },
  "language_info": {
   "codemirror_mode": {
    "name": "ipython",
    "version": 3
   },
   "file_extension": ".py",
   "mimetype": "text/x-python",
   "name": "python",
   "nbconvert_exporter": "python",
   "pygments_lexer": "ipython3",
   "version": "3.9.5"
  },
  "orig_nbformat": 4
 },
 "nbformat": 4,
 "nbformat_minor": 2
}
